{
  "nbformat": 4,
  "nbformat_minor": 0,
  "metadata": {
    "colab": {
      "name": "CBFMLWk6.ipynb",
      "provenance": [],
      "authorship_tag": "ABX9TyMNxTr7AmKqSEEQpOKDlgmp",
      "include_colab_link": true
    },
    "kernelspec": {
      "name": "python3",
      "display_name": "Python 3"
    },
    "language_info": {
      "name": "python"
    }
  },
  "cells": [
    {
      "cell_type": "markdown",
      "metadata": {
        "id": "view-in-github",
        "colab_type": "text"
      },
      "source": [
        "<a href=\"https://colab.research.google.com/github/SawdaDevs/CBFML/blob/main/CBFMLWk6.ipynb\" target=\"_parent\"><img src=\"https://colab.research.google.com/assets/colab-badge.svg\" alt=\"Open In Colab\"/></a>"
      ]
    },
    {
      "cell_type": "code",
      "execution_count": 1,
      "metadata": {
        "id": "q9iQDRsF1urC"
      },
      "outputs": [],
      "source": [
        "import matplotlib.pyplot as plt\n",
        "import numpy as np\n",
        "import pandas as pd\n",
        "from sklearn.model_selection import train_test_split \n",
        "from sklearn.linear_model import LinearRegression"
      ]
    },
    {
      "cell_type": "code",
      "source": [
        "weather_data = pd.read_csv('/content/Summary of Weather.csv', low_memory=False)"
      ],
      "metadata": {
        "id": "731cmEqo3HxR"
      },
      "execution_count": 4,
      "outputs": []
    },
    {
      "cell_type": "code",
      "source": [
        "weather_data"
      ],
      "metadata": {
        "colab": {
          "base_uri": "https://localhost:8080/",
          "height": 424
        },
        "id": "cbt7G8yX4CCQ",
        "outputId": "f2ff7e8f-592e-48a7-91fe-dc18e54e6219"
      },
      "execution_count": 5,
      "outputs": [
        {
          "output_type": "execute_result",
          "data": {
            "text/plain": [
              "          STA        Date Precip  WindGustSpd    MaxTemp    MinTemp  \\\n",
              "0       10001    1942-7-1  1.016          NaN  25.555556  22.222222   \n",
              "1       10001    1942-7-2      0          NaN  28.888889  21.666667   \n",
              "2       10001    1942-7-3   2.54          NaN  26.111111  22.222222   \n",
              "3       10001    1942-7-4   2.54          NaN  26.666667  22.222222   \n",
              "4       10001    1942-7-5      0          NaN  26.666667  21.666667   \n",
              "...       ...         ...    ...          ...        ...        ...   \n",
              "119035  82506  1945-12-27      0          NaN  28.333333  18.333333   \n",
              "119036  82506  1945-12-28  9.906          NaN  29.444444  18.333333   \n",
              "119037  82506  1945-12-29      0          NaN  28.333333  18.333333   \n",
              "119038  82506  1945-12-30      0          NaN  28.333333  18.333333   \n",
              "119039  82506  1945-12-31      0          NaN  29.444444  17.222222   \n",
              "\n",
              "         MeanTemp Snowfall PoorWeather  YR  ...  FB  FTI ITH  PGT  TSHDSBRSGF  \\\n",
              "0       23.888889        0         NaN  42  ... NaN  NaN NaN  NaN         NaN   \n",
              "1       25.555556        0         NaN  42  ... NaN  NaN NaN  NaN         NaN   \n",
              "2       24.444444        0         NaN  42  ... NaN  NaN NaN  NaN         NaN   \n",
              "3       24.444444        0         NaN  42  ... NaN  NaN NaN  NaN         NaN   \n",
              "4       24.444444        0         NaN  42  ... NaN  NaN NaN  NaN         NaN   \n",
              "...           ...      ...         ...  ..  ...  ..  ...  ..  ...         ...   \n",
              "119035  23.333333        0         NaN  45  ... NaN  NaN NaN  NaN         NaN   \n",
              "119036  23.888889        0           1  45  ... NaN  NaN NaN  NaN           1   \n",
              "119037  23.333333        0           1  45  ... NaN  NaN NaN  NaN           1   \n",
              "119038  23.333333        0         NaN  45  ... NaN  NaN NaN  NaN         NaN   \n",
              "119039  23.333333        0         NaN  45  ... NaN  NaN NaN  NaN         NaN   \n",
              "\n",
              "        SD3  RHX  RHN RVG  WTE  \n",
              "0       NaN  NaN  NaN NaN  NaN  \n",
              "1       NaN  NaN  NaN NaN  NaN  \n",
              "2       NaN  NaN  NaN NaN  NaN  \n",
              "3       NaN  NaN  NaN NaN  NaN  \n",
              "4       NaN  NaN  NaN NaN  NaN  \n",
              "...     ...  ...  ...  ..  ...  \n",
              "119035  NaN  NaN  NaN NaN  NaN  \n",
              "119036  NaN  NaN  NaN NaN  NaN  \n",
              "119037  NaN  NaN  NaN NaN  NaN  \n",
              "119038  NaN  NaN  NaN NaN  NaN  \n",
              "119039  NaN  NaN  NaN NaN  NaN  \n",
              "\n",
              "[119040 rows x 31 columns]"
            ],
            "text/html": [
              "\n",
              "  <div id=\"df-39e88cbe-9719-427a-aec1-510b792737ce\">\n",
              "    <div class=\"colab-df-container\">\n",
              "      <div>\n",
              "<style scoped>\n",
              "    .dataframe tbody tr th:only-of-type {\n",
              "        vertical-align: middle;\n",
              "    }\n",
              "\n",
              "    .dataframe tbody tr th {\n",
              "        vertical-align: top;\n",
              "    }\n",
              "\n",
              "    .dataframe thead th {\n",
              "        text-align: right;\n",
              "    }\n",
              "</style>\n",
              "<table border=\"1\" class=\"dataframe\">\n",
              "  <thead>\n",
              "    <tr style=\"text-align: right;\">\n",
              "      <th></th>\n",
              "      <th>STA</th>\n",
              "      <th>Date</th>\n",
              "      <th>Precip</th>\n",
              "      <th>WindGustSpd</th>\n",
              "      <th>MaxTemp</th>\n",
              "      <th>MinTemp</th>\n",
              "      <th>MeanTemp</th>\n",
              "      <th>Snowfall</th>\n",
              "      <th>PoorWeather</th>\n",
              "      <th>YR</th>\n",
              "      <th>...</th>\n",
              "      <th>FB</th>\n",
              "      <th>FTI</th>\n",
              "      <th>ITH</th>\n",
              "      <th>PGT</th>\n",
              "      <th>TSHDSBRSGF</th>\n",
              "      <th>SD3</th>\n",
              "      <th>RHX</th>\n",
              "      <th>RHN</th>\n",
              "      <th>RVG</th>\n",
              "      <th>WTE</th>\n",
              "    </tr>\n",
              "  </thead>\n",
              "  <tbody>\n",
              "    <tr>\n",
              "      <th>0</th>\n",
              "      <td>10001</td>\n",
              "      <td>1942-7-1</td>\n",
              "      <td>1.016</td>\n",
              "      <td>NaN</td>\n",
              "      <td>25.555556</td>\n",
              "      <td>22.222222</td>\n",
              "      <td>23.888889</td>\n",
              "      <td>0</td>\n",
              "      <td>NaN</td>\n",
              "      <td>42</td>\n",
              "      <td>...</td>\n",
              "      <td>NaN</td>\n",
              "      <td>NaN</td>\n",
              "      <td>NaN</td>\n",
              "      <td>NaN</td>\n",
              "      <td>NaN</td>\n",
              "      <td>NaN</td>\n",
              "      <td>NaN</td>\n",
              "      <td>NaN</td>\n",
              "      <td>NaN</td>\n",
              "      <td>NaN</td>\n",
              "    </tr>\n",
              "    <tr>\n",
              "      <th>1</th>\n",
              "      <td>10001</td>\n",
              "      <td>1942-7-2</td>\n",
              "      <td>0</td>\n",
              "      <td>NaN</td>\n",
              "      <td>28.888889</td>\n",
              "      <td>21.666667</td>\n",
              "      <td>25.555556</td>\n",
              "      <td>0</td>\n",
              "      <td>NaN</td>\n",
              "      <td>42</td>\n",
              "      <td>...</td>\n",
              "      <td>NaN</td>\n",
              "      <td>NaN</td>\n",
              "      <td>NaN</td>\n",
              "      <td>NaN</td>\n",
              "      <td>NaN</td>\n",
              "      <td>NaN</td>\n",
              "      <td>NaN</td>\n",
              "      <td>NaN</td>\n",
              "      <td>NaN</td>\n",
              "      <td>NaN</td>\n",
              "    </tr>\n",
              "    <tr>\n",
              "      <th>2</th>\n",
              "      <td>10001</td>\n",
              "      <td>1942-7-3</td>\n",
              "      <td>2.54</td>\n",
              "      <td>NaN</td>\n",
              "      <td>26.111111</td>\n",
              "      <td>22.222222</td>\n",
              "      <td>24.444444</td>\n",
              "      <td>0</td>\n",
              "      <td>NaN</td>\n",
              "      <td>42</td>\n",
              "      <td>...</td>\n",
              "      <td>NaN</td>\n",
              "      <td>NaN</td>\n",
              "      <td>NaN</td>\n",
              "      <td>NaN</td>\n",
              "      <td>NaN</td>\n",
              "      <td>NaN</td>\n",
              "      <td>NaN</td>\n",
              "      <td>NaN</td>\n",
              "      <td>NaN</td>\n",
              "      <td>NaN</td>\n",
              "    </tr>\n",
              "    <tr>\n",
              "      <th>3</th>\n",
              "      <td>10001</td>\n",
              "      <td>1942-7-4</td>\n",
              "      <td>2.54</td>\n",
              "      <td>NaN</td>\n",
              "      <td>26.666667</td>\n",
              "      <td>22.222222</td>\n",
              "      <td>24.444444</td>\n",
              "      <td>0</td>\n",
              "      <td>NaN</td>\n",
              "      <td>42</td>\n",
              "      <td>...</td>\n",
              "      <td>NaN</td>\n",
              "      <td>NaN</td>\n",
              "      <td>NaN</td>\n",
              "      <td>NaN</td>\n",
              "      <td>NaN</td>\n",
              "      <td>NaN</td>\n",
              "      <td>NaN</td>\n",
              "      <td>NaN</td>\n",
              "      <td>NaN</td>\n",
              "      <td>NaN</td>\n",
              "    </tr>\n",
              "    <tr>\n",
              "      <th>4</th>\n",
              "      <td>10001</td>\n",
              "      <td>1942-7-5</td>\n",
              "      <td>0</td>\n",
              "      <td>NaN</td>\n",
              "      <td>26.666667</td>\n",
              "      <td>21.666667</td>\n",
              "      <td>24.444444</td>\n",
              "      <td>0</td>\n",
              "      <td>NaN</td>\n",
              "      <td>42</td>\n",
              "      <td>...</td>\n",
              "      <td>NaN</td>\n",
              "      <td>NaN</td>\n",
              "      <td>NaN</td>\n",
              "      <td>NaN</td>\n",
              "      <td>NaN</td>\n",
              "      <td>NaN</td>\n",
              "      <td>NaN</td>\n",
              "      <td>NaN</td>\n",
              "      <td>NaN</td>\n",
              "      <td>NaN</td>\n",
              "    </tr>\n",
              "    <tr>\n",
              "      <th>...</th>\n",
              "      <td>...</td>\n",
              "      <td>...</td>\n",
              "      <td>...</td>\n",
              "      <td>...</td>\n",
              "      <td>...</td>\n",
              "      <td>...</td>\n",
              "      <td>...</td>\n",
              "      <td>...</td>\n",
              "      <td>...</td>\n",
              "      <td>...</td>\n",
              "      <td>...</td>\n",
              "      <td>...</td>\n",
              "      <td>...</td>\n",
              "      <td>...</td>\n",
              "      <td>...</td>\n",
              "      <td>...</td>\n",
              "      <td>...</td>\n",
              "      <td>...</td>\n",
              "      <td>...</td>\n",
              "      <td>...</td>\n",
              "      <td>...</td>\n",
              "    </tr>\n",
              "    <tr>\n",
              "      <th>119035</th>\n",
              "      <td>82506</td>\n",
              "      <td>1945-12-27</td>\n",
              "      <td>0</td>\n",
              "      <td>NaN</td>\n",
              "      <td>28.333333</td>\n",
              "      <td>18.333333</td>\n",
              "      <td>23.333333</td>\n",
              "      <td>0</td>\n",
              "      <td>NaN</td>\n",
              "      <td>45</td>\n",
              "      <td>...</td>\n",
              "      <td>NaN</td>\n",
              "      <td>NaN</td>\n",
              "      <td>NaN</td>\n",
              "      <td>NaN</td>\n",
              "      <td>NaN</td>\n",
              "      <td>NaN</td>\n",
              "      <td>NaN</td>\n",
              "      <td>NaN</td>\n",
              "      <td>NaN</td>\n",
              "      <td>NaN</td>\n",
              "    </tr>\n",
              "    <tr>\n",
              "      <th>119036</th>\n",
              "      <td>82506</td>\n",
              "      <td>1945-12-28</td>\n",
              "      <td>9.906</td>\n",
              "      <td>NaN</td>\n",
              "      <td>29.444444</td>\n",
              "      <td>18.333333</td>\n",
              "      <td>23.888889</td>\n",
              "      <td>0</td>\n",
              "      <td>1</td>\n",
              "      <td>45</td>\n",
              "      <td>...</td>\n",
              "      <td>NaN</td>\n",
              "      <td>NaN</td>\n",
              "      <td>NaN</td>\n",
              "      <td>NaN</td>\n",
              "      <td>1</td>\n",
              "      <td>NaN</td>\n",
              "      <td>NaN</td>\n",
              "      <td>NaN</td>\n",
              "      <td>NaN</td>\n",
              "      <td>NaN</td>\n",
              "    </tr>\n",
              "    <tr>\n",
              "      <th>119037</th>\n",
              "      <td>82506</td>\n",
              "      <td>1945-12-29</td>\n",
              "      <td>0</td>\n",
              "      <td>NaN</td>\n",
              "      <td>28.333333</td>\n",
              "      <td>18.333333</td>\n",
              "      <td>23.333333</td>\n",
              "      <td>0</td>\n",
              "      <td>1</td>\n",
              "      <td>45</td>\n",
              "      <td>...</td>\n",
              "      <td>NaN</td>\n",
              "      <td>NaN</td>\n",
              "      <td>NaN</td>\n",
              "      <td>NaN</td>\n",
              "      <td>1</td>\n",
              "      <td>NaN</td>\n",
              "      <td>NaN</td>\n",
              "      <td>NaN</td>\n",
              "      <td>NaN</td>\n",
              "      <td>NaN</td>\n",
              "    </tr>\n",
              "    <tr>\n",
              "      <th>119038</th>\n",
              "      <td>82506</td>\n",
              "      <td>1945-12-30</td>\n",
              "      <td>0</td>\n",
              "      <td>NaN</td>\n",
              "      <td>28.333333</td>\n",
              "      <td>18.333333</td>\n",
              "      <td>23.333333</td>\n",
              "      <td>0</td>\n",
              "      <td>NaN</td>\n",
              "      <td>45</td>\n",
              "      <td>...</td>\n",
              "      <td>NaN</td>\n",
              "      <td>NaN</td>\n",
              "      <td>NaN</td>\n",
              "      <td>NaN</td>\n",
              "      <td>NaN</td>\n",
              "      <td>NaN</td>\n",
              "      <td>NaN</td>\n",
              "      <td>NaN</td>\n",
              "      <td>NaN</td>\n",
              "      <td>NaN</td>\n",
              "    </tr>\n",
              "    <tr>\n",
              "      <th>119039</th>\n",
              "      <td>82506</td>\n",
              "      <td>1945-12-31</td>\n",
              "      <td>0</td>\n",
              "      <td>NaN</td>\n",
              "      <td>29.444444</td>\n",
              "      <td>17.222222</td>\n",
              "      <td>23.333333</td>\n",
              "      <td>0</td>\n",
              "      <td>NaN</td>\n",
              "      <td>45</td>\n",
              "      <td>...</td>\n",
              "      <td>NaN</td>\n",
              "      <td>NaN</td>\n",
              "      <td>NaN</td>\n",
              "      <td>NaN</td>\n",
              "      <td>NaN</td>\n",
              "      <td>NaN</td>\n",
              "      <td>NaN</td>\n",
              "      <td>NaN</td>\n",
              "      <td>NaN</td>\n",
              "      <td>NaN</td>\n",
              "    </tr>\n",
              "  </tbody>\n",
              "</table>\n",
              "<p>119040 rows × 31 columns</p>\n",
              "</div>\n",
              "      <button class=\"colab-df-convert\" onclick=\"convertToInteractive('df-39e88cbe-9719-427a-aec1-510b792737ce')\"\n",
              "              title=\"Convert this dataframe to an interactive table.\"\n",
              "              style=\"display:none;\">\n",
              "        \n",
              "  <svg xmlns=\"http://www.w3.org/2000/svg\" height=\"24px\"viewBox=\"0 0 24 24\"\n",
              "       width=\"24px\">\n",
              "    <path d=\"M0 0h24v24H0V0z\" fill=\"none\"/>\n",
              "    <path d=\"M18.56 5.44l.94 2.06.94-2.06 2.06-.94-2.06-.94-.94-2.06-.94 2.06-2.06.94zm-11 1L8.5 8.5l.94-2.06 2.06-.94-2.06-.94L8.5 2.5l-.94 2.06-2.06.94zm10 10l.94 2.06.94-2.06 2.06-.94-2.06-.94-.94-2.06-.94 2.06-2.06.94z\"/><path d=\"M17.41 7.96l-1.37-1.37c-.4-.4-.92-.59-1.43-.59-.52 0-1.04.2-1.43.59L10.3 9.45l-7.72 7.72c-.78.78-.78 2.05 0 2.83L4 21.41c.39.39.9.59 1.41.59.51 0 1.02-.2 1.41-.59l7.78-7.78 2.81-2.81c.8-.78.8-2.07 0-2.86zM5.41 20L4 18.59l7.72-7.72 1.47 1.35L5.41 20z\"/>\n",
              "  </svg>\n",
              "      </button>\n",
              "      \n",
              "  <style>\n",
              "    .colab-df-container {\n",
              "      display:flex;\n",
              "      flex-wrap:wrap;\n",
              "      gap: 12px;\n",
              "    }\n",
              "\n",
              "    .colab-df-convert {\n",
              "      background-color: #E8F0FE;\n",
              "      border: none;\n",
              "      border-radius: 50%;\n",
              "      cursor: pointer;\n",
              "      display: none;\n",
              "      fill: #1967D2;\n",
              "      height: 32px;\n",
              "      padding: 0 0 0 0;\n",
              "      width: 32px;\n",
              "    }\n",
              "\n",
              "    .colab-df-convert:hover {\n",
              "      background-color: #E2EBFA;\n",
              "      box-shadow: 0px 1px 2px rgba(60, 64, 67, 0.3), 0px 1px 3px 1px rgba(60, 64, 67, 0.15);\n",
              "      fill: #174EA6;\n",
              "    }\n",
              "\n",
              "    [theme=dark] .colab-df-convert {\n",
              "      background-color: #3B4455;\n",
              "      fill: #D2E3FC;\n",
              "    }\n",
              "\n",
              "    [theme=dark] .colab-df-convert:hover {\n",
              "      background-color: #434B5C;\n",
              "      box-shadow: 0px 1px 3px 1px rgba(0, 0, 0, 0.15);\n",
              "      filter: drop-shadow(0px 1px 2px rgba(0, 0, 0, 0.3));\n",
              "      fill: #FFFFFF;\n",
              "    }\n",
              "  </style>\n",
              "\n",
              "      <script>\n",
              "        const buttonEl =\n",
              "          document.querySelector('#df-39e88cbe-9719-427a-aec1-510b792737ce button.colab-df-convert');\n",
              "        buttonEl.style.display =\n",
              "          google.colab.kernel.accessAllowed ? 'block' : 'none';\n",
              "\n",
              "        async function convertToInteractive(key) {\n",
              "          const element = document.querySelector('#df-39e88cbe-9719-427a-aec1-510b792737ce');\n",
              "          const dataTable =\n",
              "            await google.colab.kernel.invokeFunction('convertToInteractive',\n",
              "                                                     [key], {});\n",
              "          if (!dataTable) return;\n",
              "\n",
              "          const docLinkHtml = 'Like what you see? Visit the ' +\n",
              "            '<a target=\"_blank\" href=https://colab.research.google.com/notebooks/data_table.ipynb>data table notebook</a>'\n",
              "            + ' to learn more about interactive tables.';\n",
              "          element.innerHTML = '';\n",
              "          dataTable['output_type'] = 'display_data';\n",
              "          await google.colab.output.renderOutput(dataTable, element);\n",
              "          const docLink = document.createElement('div');\n",
              "          docLink.innerHTML = docLinkHtml;\n",
              "          element.appendChild(docLink);\n",
              "        }\n",
              "      </script>\n",
              "    </div>\n",
              "  </div>\n",
              "  "
            ]
          },
          "metadata": {},
          "execution_count": 5
        }
      ]
    },
    {
      "cell_type": "code",
      "source": [
        ""
      ],
      "metadata": {
        "id": "d0cTN_BdC7Sw"
      },
      "execution_count": null,
      "outputs": []
    },
    {
      "cell_type": "code",
      "source": [
        "plt.scatter(df['MaxTemp'], df['MinTemp'])\n",
        "plt.title('Maximum Temperature vs Minimum Temperature')  \n",
        "plt.xlabel('Maximum Temperature')  \n",
        "plt.ylabel('Minimum Temperature')  \n",
        "plt.show()"
      ],
      "metadata": {
        "colab": {
          "base_uri": "https://localhost:8080/",
          "height": 295
        },
        "id": "XbsI9YCO5Pw3",
        "outputId": "7ee3a9c9-9582-4b1d-c602-513f6cec19c9"
      },
      "execution_count": 6,
      "outputs": [
        {
          "output_type": "display_data",
          "data": {
            "text/plain": [
              "<Figure size 432x288 with 1 Axes>"
            ],
            "image/png": "[encoded data removed]"
          },
          "metadata": {
            "needs_background": "light"
          }
        }
      ]
    },
    {
      "cell_type": "code",
      "source": [
        "x = weather_data['MaxTemp'].values.reshape(-1,1)\n",
        "y = weather_data['MinTemp'].values.reshape(-1,1)"
      ],
      "metadata": {
        "id": "yrKs3F4f_wsR"
      },
      "execution_count": 11,
      "outputs": []
    },
    {
      "cell_type": "code",
      "source": [
        "x"
      ],
      "metadata": {
        "colab": {
          "base_uri": "https://localhost:8080/"
        },
        "id": "h-cbC_KA_2Js",
        "outputId": "03d2559a-665b-464d-e5d1-7f8dee2cd755"
      },
      "execution_count": 12,
      "outputs": [
        {
          "output_type": "execute_result",
          "data": {
            "text/plain": [
              "array([[25.55555556],\n",
              "       [28.88888889],\n",
              "       [26.11111111],\n",
              "       ...,\n",
              "       [28.33333333],\n",
              "       [28.33333333],\n",
              "       [29.44444444]])"
            ]
          },
          "metadata": {},
          "execution_count": 12
        }
      ]
    },
    {
      "cell_type": "code",
      "source": [
        "y"
      ],
      "metadata": {
        "colab": {
          "base_uri": "https://localhost:8080/"
        },
        "id": "pNHAUade_4UN",
        "outputId": "12243230-9fc2-4958-8490-a46dd3c38222"
      },
      "execution_count": 13,
      "outputs": [
        {
          "output_type": "execute_result",
          "data": {
            "text/plain": [
              "array([[22.22222222],\n",
              "       [21.66666667],\n",
              "       [22.22222222],\n",
              "       ...,\n",
              "       [18.33333333],\n",
              "       [18.33333333],\n",
              "       [17.22222222]])"
            ]
          },
          "metadata": {},
          "execution_count": 13
        }
      ]
    },
    {
      "cell_type": "code",
      "source": [
        "# 4: Getting our dependent and independent variables and \n",
        "# reshaping them so we can use test_train_split.\n",
        "X = df['MaxTemp'].values.reshape(-1,1)\n",
        "y = df['MinTemp'].values.reshape(-1,1)\n",
        "\n",
        "# 5: Splitting data into training sets and testing sets\n",
        "X_train, X_test, y_train, y_test = train_test_split(X, y)\n",
        "\n",
        "# 6: Training our Model\n",
        "model = LinearRegression().fit(X_train, y_train)"
      ],
      "metadata": {
        "id": "SfeU8xdy__u9"
      },
      "execution_count": 15,
      "outputs": []
    },
    {
      "cell_type": "code",
      "source": [
        "model = LinearRegression().fit(X_train, y_train)"
      ],
      "metadata": {
        "id": "JASOB-RJAFJ0"
      },
      "execution_count": 16,
      "outputs": []
    },
    {
      "cell_type": "code",
      "source": [
        "# 7: Seeing how accurate our model is, 1 is the best possible score, so 0.77 is a good model.\n",
        "print(\"Training set score:\", model.score(X_train, y_train))\n",
        "print(\"Test set score:\", model.score(X_test, y_test))\n",
        "\n",
        "# 8: Making a prediction for our test data.\n",
        "y_prediction = model.predict(X_test)"
      ],
      "metadata": {
        "colab": {
          "base_uri": "https://localhost:8080/"
        },
        "id": "5U1A-O_-C8pv",
        "outputId": "849596a4-4bd1-4eb6-8c2c-8f3aaa95a168"
      },
      "execution_count": 20,
      "outputs": [
        {
          "output_type": "stream",
          "name": "stdout",
          "text": [
            "Training set score: 0.771640630662435\n",
            "Test set score: 0.7713031552777756\n"
          ]
        }
      ]
    },
    {
      "cell_type": "code",
      "source": [
        "plt.scatter(X_test, y_test)\n",
        "plt.plot(X_test, y_prediction, color='r')\n",
        "plt.title('Maximum Temperature vs Minimum Temperature')  \n",
        "plt.xlabel('Maximum Temperature')  \n",
        "plt.ylabel('Minimum Temperature')  \n",
        "plt.show()"
      ],
      "metadata": {
        "colab": {
          "base_uri": "https://localhost:8080/",
          "height": 295
        },
        "id": "P27ulWvvDJsm",
        "outputId": "bc4c6966-01a1-40b2-c7bc-4dc914f3a961"
      },
      "execution_count": 22,
      "outputs": [
        {
          "output_type": "display_data",
          "data": {
            "text/plain": [
              "<Figure size 432x288 with 1 Axes>"
            ],
            "image/png": "[encoded data removed]"
          },
          "metadata": {
            "needs_background": "light"
          }
        }
      ]
    }
  ]
}